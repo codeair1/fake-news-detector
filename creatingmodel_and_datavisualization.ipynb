{
 "cells": [
  {
   "cell_type": "code",
   "execution_count": 1,
   "id": "24afadca-2c01-484c-972c-280246b0c58f",
   "metadata": {},
   "outputs": [
    {
     "name": "stdout",
     "output_type": "stream",
     "text": [
      "['FAKE' 'REAL' 'FAKE' ... 'REAL' 'REAL' 'FAKE']\n",
      "Accuracy: 0.9250\n"
     ]
    }
   ],
   "source": [
    "import pandas as pd\n",
    "import seaborn as sns\n",
    "import matplotlib.pyplot as plt\n",
    "from sklearn.model_selection import train_test_split, TimeSeriesSplit\n",
    "from sklearn.linear_model import LogisticRegression\n",
    "from sklearn.feature_extraction.text import TfidfVectorizer\n",
    "import numpy as np\n",
    "from sklearn.metrics import accuracy_score\n",
    "import joblib\n",
    "\n",
    "\n",
    "data = pd.read_csv('fake_or_real_news.csv')\n",
    "data.columns = [col.strip().lower() for col in data.columns]\n",
    "\n",
    "data['text_combined'] = data['title'] + ' ' + data['text']\n",
    "vectorizer = TfidfVectorizer(stop_words='english', max_features=5000)\n",
    "X = vectorizer.fit_transform(data['text_combined'])\n",
    "\n",
    "target=['label']\n",
    "y = data[target].values.ravel()  # Or .values.flatten()\n",
    "\n",
    "\n",
    "X_train, X_test, y_train, y_test = train_test_split(X, y, test_size=0.2, random_state=30)\n",
    "\n",
    "model = LogisticRegression(max_iter=1000)\n",
    "model.fit(X_train, y_train)\n",
    "\n",
    "predictions = model.predict(X_test)\n",
    "probabilities = model.predict_proba(X_test)\n",
    "\n",
    "print(predictions)\n",
    "\n",
    "#joblib.dump(model,'news_realorfake.pkl') \n",
    "joblib.dump(vectorizer,'tfidvec.pkl')\n",
    "\n",
    "accuracy = accuracy_score(y_test, predictions)\n",
    "print(f'Accuracy: {accuracy:.4f}')"
   ]
  },
  {
   "cell_type": "code",
   "execution_count": 5,
   "id": "5c5e60e7-7bf7-4ff8-96b6-fadf13e92ab7",
   "metadata": {},
   "outputs": [
    {
     "data": {
      "image/png": "[encoded data removed]",
      "text/plain": [
       "<Figure size 640x480 with 1 Axes>"
      ]
     },
     "metadata": {},
     "output_type": "display_data"
    }
   ],
   "source": [
    "\n",
    "from collections import Counter\n",
    "fake_words = ' '.join(data[data['label'] == 'FAKE']['text_combined']).split()\n",
    "real_words = ' '.join(data[data['label'] == 'REAL']['text_combined']).split()\n",
    "\n",
    "\n",
    "sns.boxplot(x='label', y=data['text_combined'].apply(len), data=data)\n",
    "plt.show()\n",
    "\n"
   ]
  },
  {
   "cell_type": "code",
   "execution_count": 8,
   "id": "064565cc-dbe6-4aaa-b8fc-b7b758fcd0fe",
   "metadata": {},
   "outputs": [
    {
     "name": "stdout",
     "output_type": "stream",
     "text": [
      "Top positive influence words (fake): ['islamic' 'conservative' 'fox' 'state' 'debate' 'candidates' 'gop' 'cruz'\n",
      " 'sanders' 'said']\n"
     ]
    }
   ],
   "source": [
    "from sklearn.linear_model import LogisticRegression\n",
    "from sklearn.feature_extraction.text import TfidfVectorizer\n",
    "\n",
    "# Your custom blocked words\n",
    "blocked_words = {'said', 'also', 'might', 'one', 'us'}\n",
    "\n",
    "X = vectorizer.fit_transform(data['text_combined'])\n",
    "\n",
    "X = vectorizer.fit_transform(data['text_combined'])\n",
    "\n",
    "target=['label']\n",
    "y = data[target].values.ravel()  # Or .values.flatten()\n",
    "\n",
    "\n",
    "X_train, X_test, y_train, y_test = train_test_split(X, y, test_size=0.2, random_state=30)\n",
    "\n",
    "model = LogisticRegression(max_iter=1000)\n",
    "model.fit(X_train, y_train)\n",
    "feature_names = vectorizer.get_feature_names_out()\n",
    "coefs = model.coef_[0]\n",
    "top_indices = np.argsort(coefs)[-10:]\n",
    "print(\"Top positive influence words (fake):\", feature_names[top_indices])"
   ]
  },
  {
   "cell_type": "code",
   "execution_count": 6,
   "id": "1d548cdc-b6e1-4cea-92ae-e9f8e59b9241",
   "metadata": {},
   "outputs": [
    {
     "name": "stdout",
     "output_type": "stream",
     "text": [
      "Top positive influence words (real): [['2016' 'hillary' 'october' ... 'cruz' 'sanders' 'said']]\n"
     ]
    }
   ],
   "source": [
    "from sklearn.linear_model import LogisticRegression\n",
    "\n",
    "model = LogisticRegression(max_iter=1000)\n",
    "model.fit(X_train, y_train)\n",
    "feature_names = vectorizer.get_feature_names_out()\n",
    "coefs = model.coef_\n",
    "top_indices = np.argsort(coefs)[-10:]\n",
    "print(\"Top positive influence words (real):\", feature_names[top_indices])\n"
   ]
  },
  {
   "cell_type": "code",
   "execution_count": null,
   "id": "21cf6d82-bec4-40bc-a66a-e9a3d7f03055",
   "metadata": {},
   "outputs": [],
   "source": [
    "\n"
   ]
  },
  {
   "cell_type": "code",
   "execution_count": null,
   "id": "38c29a10-a607-401b-a0b3-439ef1e56bc7",
   "metadata": {},
   "outputs": [],
   "source": []
  }
 ],
 "metadata": {
  "kernelspec": {
   "display_name": "Python 3 (ipykernel)",
   "language": "python",
   "name": "python3"
  },
  "language_info": {
   "codemirror_mode": {
    "name": "ipython",
    "version": 3
   },
   "file_extension": ".py",
   "mimetype": "text/x-python",
   "name": "python",
   "nbconvert_exporter": "python",
   "pygments_lexer": "ipython3",
   "version": "3.13.4"
  }
 },
 "nbformat": 4,
 "nbformat_minor": 5
}
